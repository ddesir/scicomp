{
 "cells": [
  {
   "cell_type": "code",
   "execution_count": 4,
   "metadata": {},
   "outputs": [
    {
     "data": {
      "text/html": [
       "\n",
       "        <div>\n",
       "            <p><b>SparkContext</b></p>\n",
       "\n",
       "            <p><a href=\"http://192.168.107.155:4040\">Spark UI</a></p>\n",
       "\n",
       "            <dl>\n",
       "              <dt>Version</dt>\n",
       "                <dd><code>v2.4.0</code></dd>\n",
       "              <dt>Master</dt>\n",
       "                <dd><code>local[*]</code></dd>\n",
       "              <dt>AppName</dt>\n",
       "                <dd><code>PySparkShell</code></dd>\n",
       "            </dl>\n",
       "        </div>\n",
       "        "
      ],
      "text/plain": [
       "<SparkContext master=local[*] appName=PySparkShell>"
      ]
     },
     "execution_count": 4,
     "metadata": {},
     "output_type": "execute_result"
    }
   ],
   "source": [
    "sc"
   ]
  },
  {
   "cell_type": "code",
   "execution_count": 5,
   "metadata": {},
   "outputs": [],
   "source": [
    "from pyspark.sql import SparkSession"
   ]
  },
  {
   "cell_type": "code",
   "execution_count": 6,
   "metadata": {},
   "outputs": [],
   "source": [
    "spark = SparkSession.builder \\\n",
    "        .master('local') \\\n",
    "        .appName('Neural Network Model') \\\n",
    "        .config ('spark.executor.memory', '6gb') \\\n",
    "        .getOrCreate()\n",
    "\n",
    "sc = spark.sparkContext"
   ]
  },
  {
   "cell_type": "code",
   "execution_count": 7,
   "metadata": {},
   "outputs": [],
   "source": [
    "df = spark.createDataFrame ([('Male', 67, 150), # insert column values\n",
    "                            ('Female', 65, 135),\n",
    "                            ('Female', 68, 130),\n",
    "                            ('Male', 70, 160),\n",
    "                            ('Female', 70, 130),\n",
    "                            ('Male', 69, 174),\n",
    "                            ('Female', 65, 126),\n",
    "                            ('Male', 74, 188),\n",
    "                            ('Female', 60, 110),\n",
    "                            ('Female', 63, 125),\n",
    "                            ('Male', 70, 173),\n",
    "                            ('Male', 70, 145),\n",
    "                            ('Male', 68, 175),\n",
    "                            ('Female', 65, 123),\n",
    "                            ('Male', 71, 145),\n",
    "                            ('Male', 74, 160),\n",
    "                            ('Female', 64, 135),\n",
    "                            ('Male', 71, 175),\n",
    "                            ('Male', 67, 145),\n",
    "                            ('Female', 67, 130),\n",
    "                            ('Male', 70, 162),\n",
    "                            ('Female', 64, 107),\n",
    "                            ('Male', 70, 175),\n",
    "                            ('Female', 64, 130),\n",
    "                            ('Male', 66, 163),\n",
    "                            ('Female', 63, 137),\n",
    "                            ('Male', 65, 165),\n",
    "                            ('Female', 65, 130),\n",
    "                            ('Female', 64, 109)],\n",
    "                           ['gender', 'height', 'weight']) # insert header values"
   ]
  },
  {
   "cell_type": "code",
   "execution_count": 8,
   "metadata": {},
   "outputs": [
    {
     "name": "stdout",
     "output_type": "stream",
     "text": [
      "+------+------+------+\n",
      "|gender|height|weight|\n",
      "+------+------+------+\n",
      "|  Male|    67|   150|\n",
      "|Female|    65|   135|\n",
      "|Female|    68|   130|\n",
      "|  Male|    70|   160|\n",
      "|Female|    70|   130|\n",
      "|  Male|    69|   174|\n",
      "|Female|    65|   126|\n",
      "|  Male|    74|   188|\n",
      "|Female|    60|   110|\n",
      "|Female|    63|   125|\n",
      "|  Male|    70|   173|\n",
      "|  Male|    70|   145|\n",
      "|  Male|    68|   175|\n",
      "|Female|    65|   123|\n",
      "|  Male|    71|   145|\n",
      "|  Male|    74|   160|\n",
      "|Female|    64|   135|\n",
      "|  Male|    71|   175|\n",
      "|  Male|    67|   145|\n",
      "|Female|    67|   130|\n",
      "+------+------+------+\n",
      "only showing top 20 rows\n",
      "\n"
     ]
    }
   ],
   "source": [
    "df.show ()"
   ]
  },
  {
   "cell_type": "code",
   "execution_count": 9,
   "metadata": {},
   "outputs": [],
   "source": [
    "from pyspark.sql import functions"
   ]
  },
  {
   "cell_type": "code",
   "execution_count": 10,
   "metadata": {},
   "outputs": [],
   "source": [
    "df = df.withColumn ('gender', functions.when (df ['gender'] == 'Female', 0).otherwise (1))\n",
    "df = df.select ('height', 'weight', 'gender')"
   ]
  },
  {
   "cell_type": "code",
   "execution_count": 11,
   "metadata": {},
   "outputs": [
    {
     "name": "stdout",
     "output_type": "stream",
     "text": [
      "+------+------+------+\n",
      "|height|weight|gender|\n",
      "+------+------+------+\n",
      "|    67|   150|     1|\n",
      "|    65|   135|     0|\n",
      "|    68|   130|     0|\n",
      "|    70|   160|     1|\n",
      "|    70|   130|     0|\n",
      "|    69|   174|     1|\n",
      "|    65|   126|     0|\n",
      "|    74|   188|     1|\n",
      "|    60|   110|     0|\n",
      "|    63|   125|     0|\n",
      "|    70|   173|     1|\n",
      "|    70|   145|     1|\n",
      "|    68|   175|     1|\n",
      "|    65|   123|     0|\n",
      "|    71|   145|     1|\n",
      "|    74|   160|     1|\n",
      "|    64|   135|     0|\n",
      "|    71|   175|     1|\n",
      "|    67|   145|     1|\n",
      "|    67|   130|     0|\n",
      "+------+------+------+\n",
      "only showing top 20 rows\n",
      "\n"
     ]
    }
   ],
   "source": [
    "df.show ()"
   ]
  },
  {
   "cell_type": "code",
   "execution_count": 13,
   "metadata": {},
   "outputs": [],
   "source": [
    "import numpy as np\n",
    "\n",
    "data_array = np.array (df.select ('height', 'weight', 'gender').collect ())"
   ]
  },
  {
   "cell_type": "code",
   "execution_count": 15,
   "metadata": {},
   "outputs": [
    {
     "data": {
      "text/plain": [
       "array([[ 67, 150,   1],\n",
       "       [ 65, 135,   0],\n",
       "       [ 68, 130,   0],\n",
       "       [ 70, 160,   1],\n",
       "       [ 70, 130,   0],\n",
       "       [ 69, 174,   1],\n",
       "       [ 65, 126,   0],\n",
       "       [ 74, 188,   1],\n",
       "       [ 60, 110,   0],\n",
       "       [ 63, 125,   0],\n",
       "       [ 70, 173,   1],\n",
       "       [ 70, 145,   1],\n",
       "       [ 68, 175,   1],\n",
       "       [ 65, 123,   0],\n",
       "       [ 71, 145,   1],\n",
       "       [ 74, 160,   1],\n",
       "       [ 64, 135,   0],\n",
       "       [ 71, 175,   1],\n",
       "       [ 67, 145,   1],\n",
       "       [ 67, 130,   0],\n",
       "       [ 70, 162,   1],\n",
       "       [ 64, 107,   0],\n",
       "       [ 70, 175,   1],\n",
       "       [ 64, 130,   0],\n",
       "       [ 66, 163,   1],\n",
       "       [ 63, 137,   0],\n",
       "       [ 65, 165,   1],\n",
       "       [ 65, 130,   0],\n",
       "       [ 64, 109,   0]])"
      ]
     },
     "execution_count": 15,
     "metadata": {},
     "output_type": "execute_result"
    }
   ],
   "source": [
    "data_array # View the array"
   ]
  },
  {
   "cell_type": "code",
   "execution_count": 16,
   "metadata": {},
   "outputs": [
    {
     "data": {
      "text/plain": [
       "(29, 3)"
      ]
     },
     "execution_count": 16,
     "metadata": {},
     "output_type": "execute_result"
    }
   ],
   "source": [
    "data_array.shape"
   ]
  },
  {
   "cell_type": "code",
   "execution_count": 17,
   "metadata": {},
   "outputs": [
    {
     "data": {
      "text/plain": [
       "array([ 67, 150,   1])"
      ]
     },
     "execution_count": 17,
     "metadata": {},
     "output_type": "execute_result"
    }
   ],
   "source": [
    "data_array [0]"
   ]
  },
  {
   "cell_type": "code",
   "execution_count": 18,
   "metadata": {},
   "outputs": [
    {
     "data": {
      "text/plain": [
       "array([ 64, 109,   0])"
      ]
     },
     "execution_count": 18,
     "metadata": {},
     "output_type": "execute_result"
    }
   ],
   "source": [
    "data_array [28]"
   ]
  },
  {
   "cell_type": "code",
   "execution_count": 19,
   "metadata": {},
   "outputs": [
    {
     "name": "stdout",
     "output_type": "stream",
     "text": [
      "[ 74 188   1]\n",
      "[ 60 107   0]\n"
     ]
    }
   ],
   "source": [
    "print (data_array.max (axis = 0))\n",
    "print (data_array.min (axis = 0))"
   ]
  },
  {
   "cell_type": "code",
   "execution_count": 20,
   "metadata": {},
   "outputs": [],
   "source": [
    "import matplotlib.pyplot as plt\n",
    "%matplotlib inline"
   ]
  },
  {
   "cell_type": "code",
   "execution_count": 24,
   "metadata": {},
   "outputs": [],
   "source": [
    "min_x = data_array.min (axis = 0) [0] -10\n",
    "max_x = data_array.max (axis = 0) [0] +10\n",
    "min_y = data_array.min (axis = 0) [1] -10\n",
    "max_y = data_array.max (axis = 0) [1] +10"
   ]
  },
  {
   "cell_type": "code",
   "execution_count": 29,
   "metadata": {},
   "outputs": [
    {
     "data": {
      "image/png": "[encoded data removed]",
      "text/plain": [
       "<Figure size 1800x800 with 1 Axes>"
      ]
     },
     "metadata": {
      "needs_background": "light"
     },
     "output_type": "display_data"
    }
   ],
   "source": [
    "# Formatting the plot grid, scales, and figure size\n",
    "plt.figure (figsize = (9, 4), dpi = 200) # Increased resolution from 75 to 200 dpi\n",
    "plt.axis ([min_x, max_x, min_y, max_y])\n",
    "plt.grid ()\n",
    "\n",
    "for i in range (len (data_array)):\n",
    "    value = data_array [i]\n",
    "    \n",
    "    # Assign labels values to specific matrix elements\n",
    "    gender = value [2]\n",
    "    height = value [0]\n",
    "    weight = value [1]\n",
    "    \n",
    "    # Filter data points by gender\n",
    "    a = plt.scatter (height [gender == 0], weight [gender == 0], marker = 'x', c = 'r', label = 'Female') # color red\n",
    "    b = plt.scatter (height [gender == 1], weight [gender == 1], marker = 'o', c = 'b', label = 'Male')\n",
    "    \n",
    "    # Plot values, title, legend, x and y axis\n",
    "    plt.title ('Weight vs Height by Gender')\n",
    "    plt.xlabel ('Height (in)')\n",
    "    plt.ylabel ('Weight (lbs)')\n",
    "    plt.legend (handles = [a, b])\n",
    "\n",
    "plt.show () # Works without plt.show(). Why?"
   ]
  }
 ],
 "metadata": {
  "kernelspec": {
   "display_name": "Python 3",
   "language": "python",
   "name": "python3"
  },
  "language_info": {
   "codemirror_mode": {
    "name": "ipython",
    "version": 3
   },
   "file_extension": ".py",
   "mimetype": "text/x-python",
   "name": "python",
   "nbconvert_exporter": "python",
   "pygments_lexer": "ipython3",
   "version": "3.7.0"
  }
 },
 "nbformat": 4,
 "nbformat_minor": 2
}
