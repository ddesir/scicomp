{
 "cells": [
  {
   "cell_type": "code",
   "execution_count": 1,
   "metadata": {},
   "outputs": [
    {
     "data": {
      "text/plain": [
       "array([[1, 1],\n",
       "       [1, 1]], dtype=int8)"
      ]
     },
     "execution_count": 1,
     "metadata": {},
     "output_type": "execute_result"
    }
   ],
   "source": [
    "import numpy as np\n",
    "\n",
    "int_ones = np.ones ((2, 2), dtype = np.int8)\n",
    "int_ones"
   ]
  },
  {
   "cell_type": "code",
   "execution_count": 3,
   "metadata": {},
   "outputs": [
    {
     "data": {
      "text/plain": [
       "array(['Sam', 'Will', 'Gary'], dtype='<U4')"
      ]
     },
     "execution_count": 3,
     "metadata": {},
     "output_type": "execute_result"
    }
   ],
   "source": [
    "string_arr = np.array (['Sam', 'Will', 'Gary'])\n",
    "string_arr"
   ]
  },
  {
   "cell_type": "code",
   "execution_count": 5,
   "metadata": {},
   "outputs": [
    {
     "data": {
      "text/plain": [
       "array(['Sam', 'Wald', 'Gary'], dtype='<U4')"
      ]
     },
     "execution_count": 5,
     "metadata": {},
     "output_type": "execute_result"
    }
   ],
   "source": [
    "string_arr [1] = 'Waldo'\n",
    "string_arr # Cannot have strings longer than 4 characters"
   ]
  },
  {
   "cell_type": "code",
   "execution_count": 6,
   "metadata": {},
   "outputs": [
    {
     "name": "stderr",
     "output_type": "stream",
     "text": [
      "/Users/deon/anaconda3/lib/python3.6/site-packages/ipykernel_launcher.py:2: RuntimeWarning: divide by zero encountered in true_divide\n",
      "  \n",
      "/Users/deon/anaconda3/lib/python3.6/site-packages/ipykernel_launcher.py:2: RuntimeWarning: invalid value encountered in true_divide\n",
      "  \n"
     ]
    },
    {
     "data": {
      "text/plain": [
       "array([ inf, -inf,  nan], dtype=float16)"
      ]
     },
     "execution_count": 6,
     "metadata": {},
     "output_type": "execute_result"
    }
   ],
   "source": [
    "vec1 = np.array ([1, -1, 0], dtype = np.float16)\n",
    "vec2 = vec1 / 0\n",
    "\n",
    "vec2"
   ]
  },
  {
   "cell_type": "code",
   "execution_count": 7,
   "metadata": {},
   "outputs": [
    {
     "name": "stdout",
     "output_type": "stream",
     "text": [
      "inf\n",
      "-----\n",
      "Inf: True\n",
      "-Inf: False\n",
      "NaN: False\n",
      "\n",
      "\n",
      "\n",
      "-inf\n",
      "-----\n",
      "Inf: False\n",
      "-Inf: True\n",
      "NaN: False\n",
      "\n",
      "\n",
      "\n",
      "nan\n",
      "-----\n",
      "Inf: False\n",
      "-Inf: False\n",
      "NaN: False\n",
      "\n",
      "\n",
      "\n"
     ]
    }
   ],
   "source": [
    "# Can we detect special values?\n",
    "for i in vec2:\n",
    "    print (i)\n",
    "    print ('-----')\n",
    "    print ('Inf: ' + str (i == np.inf))\n",
    "    print ('-Inf: ' + str (i == -np.inf))\n",
    "    print ('NaN: ' + str (i == np.nan))\n",
    "    print ('\\n\\n')"
   ]
  },
  {
   "cell_type": "code",
   "execution_count": 8,
   "metadata": {},
   "outputs": [
    {
     "name": "stdout",
     "output_type": "stream",
     "text": [
      "inf\n",
      "-----\n",
      "Inf: True\n",
      "-Inf: False\n",
      "NaN: False\n",
      "\n",
      "\n",
      "\n",
      "-inf\n",
      "-----\n",
      "Inf: False\n",
      "-Inf: True\n",
      "NaN: False\n",
      "\n",
      "\n",
      "\n",
      "nan\n",
      "-----\n",
      "Inf: False\n",
      "-Inf: False\n",
      "NaN: True\n",
      "\n",
      "\n",
      "\n"
     ]
    }
   ],
   "source": [
    "# A better way\n",
    "for i in vec2:\n",
    "    print (i)\n",
    "    print ('-----')\n",
    "    print ('Inf: ' + str (i == np.inf))\n",
    "    print ('-Inf: ' + str (i == -np.inf))\n",
    "    print ('NaN: ' + str (np.isnan(i))) # Does work!\n",
    "    print ('\\n\\n')"
   ]
  },
  {
   "cell_type": "code",
   "execution_count": 9,
   "metadata": {},
   "outputs": [
    {
     "name": "stdout",
     "output_type": "stream",
     "text": [
      "inf\n",
      "-----\n",
      "Is finite?: False\n",
      "Is infinite?: True\n",
      "\n",
      "\n",
      "\n",
      "-inf\n",
      "-----\n",
      "Is finite?: False\n",
      "Is infinite?: True\n",
      "\n",
      "\n",
      "\n",
      "nan\n",
      "-----\n",
      "Is finite?: False\n",
      "Is infinite?: False\n",
      "\n",
      "\n",
      "\n"
     ]
    }
   ],
   "source": [
    "# Finite vs. infinite\n",
    "for i in vec2:\n",
    "    print (i)\n",
    "    print ('-----')\n",
    "    print ('Is finite?: ' + str (np.isfinite(i)))\n",
    "    print ('Is infinite?: ' + str (np.isinf(i)))\n",
    "    print ('\\n\\n')"
   ]
  },
  {
   "cell_type": "code",
   "execution_count": 10,
   "metadata": {},
   "outputs": [
    {
     "data": {
      "text/plain": [
       "0.0"
      ]
     },
     "execution_count": 10,
     "metadata": {},
     "output_type": "execute_result"
    }
   ],
   "source": [
    "2 ** vec2 [1]"
   ]
  },
  {
   "cell_type": "code",
   "execution_count": 11,
   "metadata": {},
   "outputs": [
    {
     "data": {
      "text/plain": [
       "inf"
      ]
     },
     "execution_count": 11,
     "metadata": {},
     "output_type": "execute_result"
    }
   ],
   "source": [
    "2 ** vec2 [0]"
   ]
  },
  {
   "cell_type": "code",
   "execution_count": 12,
   "metadata": {},
   "outputs": [
    {
     "data": {
      "text/plain": [
       "nan"
      ]
     },
     "execution_count": 12,
     "metadata": {},
     "output_type": "execute_result"
    }
   ],
   "source": [
    "np.inf - np.inf"
   ]
  }
 ],
 "metadata": {
  "kernelspec": {
   "display_name": "Python 3",
   "language": "python",
   "name": "python3"
  },
  "language_info": {
   "codemirror_mode": {
    "name": "ipython",
    "version": 3
   },
   "file_extension": ".py",
   "mimetype": "text/x-python",
   "name": "python",
   "nbconvert_exporter": "python",
   "pygments_lexer": "ipython3",
   "version": "3.6.5"
  }
 },
 "nbformat": 4,
 "nbformat_minor": 2
}
